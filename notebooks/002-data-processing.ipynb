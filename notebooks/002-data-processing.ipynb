{
 "cells": [
  {
   "cell_type": "code",
   "execution_count": 5,
   "id": "c11d64b2-20f3-42ce-b937-ea0ff0e39472",
   "metadata": {},
   "outputs": [],
   "source": [
    "import os\n",
    "import torch\n",
    "import numpy as np"
   ]
  },
  {
   "cell_type": "code",
   "execution_count": 6,
   "id": "669084eb-8a10-44b1-a138-9d1796d49557",
   "metadata": {},
   "outputs": [
    {
     "name": "stdout",
     "output_type": "stream",
     "text": [
      "/home/smoate/code/ml-bootstrap-example/data/raw\n"
     ]
    }
   ],
   "source": [
    "if os.getcwd() != \"/home/smoate/code/ml-bootstrap-example/data/raw\":\n",
    "    os.chdir(\"/home/smoate/code/ml-bootstrap-example/data/raw\")\n",
    "\n",
    "cwd = os.getcwd()\n",
    "print(cwd)"
   ]
  },
  {
   "cell_type": "code",
   "execution_count": 52,
   "id": "0a1bbee7-d63a-48f8-baf0-dc7e4da7d0f0",
   "metadata": {},
   "outputs": [
    {
     "name": "stdout",
     "output_type": "stream",
     "text": [
      "Loading CSV...\n"
     ]
    }
   ],
   "source": [
    "print(\"Loading CSV...\")\n",
    "train = np.loadtxt(\"train.csv\",\n",
    "                 delimiter=\",\", skiprows=1, dtype=float)\n",
    "test = np.loadtxt(\"test.csv\",\n",
    "                 delimiter=\",\", skiprows=1, dtype=float)"
   ]
  },
  {
   "cell_type": "code",
   "execution_count": 54,
   "id": "f2838a3b-1def-4696-9b66-b8033551ac73",
   "metadata": {},
   "outputs": [
    {
     "name": "stdout",
     "output_type": "stream",
     "text": [
      "Converting to Tensor...\n"
     ]
    }
   ],
   "source": [
    "print(\"Converting to Tensor...\")\n",
    "test_tensor = torch.tensor(test)\n",
    "train_tensor = torch.tensor(train)"
   ]
  },
  {
   "cell_type": "code",
   "execution_count": 72,
   "id": "66dbad8f-8957-4a50-9e60-b63d11522ea0",
   "metadata": {},
   "outputs": [
    {
     "name": "stdout",
     "output_type": "stream",
     "text": [
      "Reshaping Tensors...\n"
     ]
    }
   ],
   "source": [
    "print(\"Reshaping Tensors...\")\n",
    "test_reshaped = test_tensor.resize_(len(test_tensor), 28, 28)\n",
    "train_reshaped = test_tensor.resize_(len(train_tensor), 1, 28, 28)"
   ]
  },
  {
   "cell_type": "code",
   "execution_count": 73,
   "id": "9d8070c3-479b-478e-897c-849123b6f527",
   "metadata": {},
   "outputs": [
    {
     "data": {
      "text/plain": [
       "torch.Size([42000, 1, 28, 28])"
      ]
     },
     "execution_count": 73,
     "metadata": {},
     "output_type": "execute_result"
    }
   ],
   "source": [
    "test_reshaped.shape\n",
    "train_reshaped.shape"
   ]
  },
  {
   "cell_type": "code",
   "execution_count": 77,
   "id": "3edf7ffc-1652-4b3b-8861-31fbe7a42482",
   "metadata": {},
   "outputs": [
    {
     "name": "stdout",
     "output_type": "stream",
     "text": [
      "Saving Tensors to File...\n"
     ]
    }
   ],
   "source": [
    "print(\"Saving Tensors to File...\")\n",
    "torch.save(test_reshaped, \"../processed/test_processed.pt\")\n",
    "torch.save(train_reshaped, \"../processed/train_processed.pt\")"
   ]
  },
  {
   "cell_type": "code",
   "execution_count": null,
   "id": "7dc94840-aed0-476e-987e-168705637252",
   "metadata": {},
   "outputs": [],
   "source": []
  }
 ],
 "metadata": {
  "kernelspec": {
   "display_name": "Python 3 (ipykernel)",
   "language": "python",
   "name": "python3"
  },
  "language_info": {
   "codemirror_mode": {
    "name": "ipython",
    "version": 3
   },
   "file_extension": ".py",
   "mimetype": "text/x-python",
   "name": "python",
   "nbconvert_exporter": "python",
   "pygments_lexer": "ipython3",
   "version": "3.10.10"
  }
 },
 "nbformat": 4,
 "nbformat_minor": 5
}
