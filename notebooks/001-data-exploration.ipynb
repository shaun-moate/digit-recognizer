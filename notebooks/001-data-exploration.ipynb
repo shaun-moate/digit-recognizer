{
 "cells": [
  {
   "cell_type": "code",
   "execution_count": 2,
   "id": "8260e66f-e906-4896-a3da-9a12e1575b7c",
   "metadata": {},
   "outputs": [],
   "source": [
    "import os\n",
    "import pandas as pd\n",
    "import numpy as np"
   ]
  },
  {
   "cell_type": "code",
   "execution_count": 3,
   "id": "f039fe0b-9db8-4c33-9231-4a6cb1a8d129",
   "metadata": {},
   "outputs": [
    {
     "name": "stdout",
     "output_type": "stream",
     "text": [
      "/home/smoate/code/ml-bootstrap-example/data/raw\n"
     ]
    }
   ],
   "source": [
    "if os.getcwd() != \"/home/smoate/code/ml-bootstrap-example/data/raw\":\n",
    "    os.chdir(\"/home/smoate/code/ml-bootstrap-example/data/raw\")\n",
    "\n",
    "cwd = os.getcwd()\n",
    "print(cwd)"
   ]
  },
  {
   "cell_type": "code",
   "execution_count": 8,
   "id": "c2c59acd-87d8-4159-94d5-8b3efe9bd6ef",
   "metadata": {},
   "outputs": [
    {
     "data": {
      "text/plain": [
       "array([['1', '0', '0', ..., '0', '0', '0'],\n",
       "       ['0', '0', '0', ..., '0', '0', '0'],\n",
       "       ['1', '0', '0', ..., '0', '0', '0'],\n",
       "       ...,\n",
       "       ['7', '0', '0', ..., '0', '0', '0'],\n",
       "       ['6', '0', '0', ..., '0', '0', '0'],\n",
       "       ['9', '0', '0', ..., '0', '0', '0']], dtype='<U3')"
      ]
     },
     "metadata": {},
     "output_type": "display_data"
    }
   ],
   "source": [
    "df = np.loadtxt(\"train.csv\",\n",
    "                 delimiter=\",\", skiprows=1, dtype=str)\n",
    "display(df)"
   ]
  },
  {
   "cell_type": "code",
   "execution_count": 9,
   "id": "d81cf031-3a4f-449b-bc33-b172ca114623",
   "metadata": {},
   "outputs": [
    {
     "data": {
      "text/plain": [
       "(42000, 785)"
      ]
     },
     "execution_count": 9,
     "metadata": {},
     "output_type": "execute_result"
    }
   ],
   "source": [
    "# What is the shape of the data?\n",
    "df.shape"
   ]
  },
  {
   "cell_type": "code",
   "execution_count": 10,
   "id": "00be3620-f1b2-42e5-852f-386217fe662d",
   "metadata": {},
   "outputs": [
    {
     "data": {
      "text/plain": [
       "Text(0.5, 1.0, 'Ground Truth: 1')"
      ]
     },
     "execution_count": 10,
     "metadata": {},
     "output_type": "execute_result"
    },
    {
     "data": {
      "image/png": "[encoded data removed]",
      "text/plain": [
       "<Figure size 640x480 with 1 Axes>"
      ]
     },
     "metadata": {},
     "output_type": "display_data"
    }
   ],
   "source": [
    "# Have look at random image\n",
    "import matplotlib.pyplot as plt\n",
    "\n",
    "# select image and cast to correct type\n",
    "index = 0\n",
    "label, image = df[index][0], df[index][1:].reshape((28, 28))\n",
    "image = image.astype(np.float32)\n",
    "\n",
    "# visualise it\n",
    "fig = plt.figure()\n",
    "plt.imshow(image, cmap='gray', interpolation='none')\n",
    "plt.title(\"Ground Truth: {}\".format(label))"
   ]
  },
  {
   "cell_type": "markdown",
   "id": "d7e14df8-198e-4076-9477-fdbc546395ef",
   "metadata": {},
   "source": [
    "### "
   ]
  }
 ],
 "metadata": {
  "kernelspec": {
   "display_name": "Python 3 (ipykernel)",
   "language": "python",
   "name": "python3"
  },
  "language_info": {
   "codemirror_mode": {
    "name": "ipython",
    "version": 3
   },
   "file_extension": ".py",
   "mimetype": "text/x-python",
   "name": "python",
   "nbconvert_exporter": "python",
   "pygments_lexer": "ipython3",
   "version": "3.10.10"
  }
 },
 "nbformat": 4,
 "nbformat_minor": 5
}
