{
 "cells": [
  {
   "cell_type": "code",
   "execution_count": 72,
   "id": "0b908852-058b-4e1c-bb20-b26df10227a5",
   "metadata": {},
   "outputs": [],
   "source": [
    "import torch\n",
    "import torch.nn as nn\n",
    "import torch.nn.functional as F\n",
    "import torch.optim as optim\n",
    "import os"
   ]
  },
  {
   "cell_type": "code",
   "execution_count": 73,
   "id": "47377a52-3cba-4791-809e-d316b3f7d8b3",
   "metadata": {},
   "outputs": [
    {
     "name": "stdout",
     "output_type": "stream",
     "text": [
      "/home/smoate/code/ml-bootstrap-example\n"
     ]
    }
   ],
   "source": [
    "if os.getcwd() != \"/home/smoate/code/ml-bootstrap-example/\":\n",
    "    os.chdir(\"/home/smoate/code/ml-bootstrap-example/\")\n",
    "\n",
    "cwd = os.getcwd()\n",
    "print(cwd)"
   ]
  },
  {
   "cell_type": "code",
   "execution_count": 74,
   "id": "03866df3-6ce2-45f9-a250-5fd2fc78b11b",
   "metadata": {},
   "outputs": [],
   "source": [
    "class Dataset(torch.utils.data.Dataset):\n",
    "  def __init__(self, data, labels):\n",
    "        self.labels = torch.load(\"data/processed/\" + labels)\n",
    "        self.data = torch.load(\"data/processed/\" + data) \n",
    "\n",
    "  def __len__(self):\n",
    "        return len(self.data)\n",
    "\n",
    "  def __getitem__(self, index):\n",
    "        X = self.data[index]\n",
    "        y = self.labels[index]\n",
    "        return X, y"
   ]
  },
  {
   "cell_type": "code",
   "execution_count": 75,
   "id": "9f89b5c9-0c79-471c-a6af-73b81d999224",
   "metadata": {},
   "outputs": [],
   "source": [
    "def load_data():\n",
    "    print(\"Loading the processed training data...\")\n",
    "    train_data = Dataset(\"train_x_processed.pt\", \"train_y_processed.pt\")\n",
    "    print(\"Generating data and creating batches for training...\")\n",
    "    train_loader = torch.utils.data.DataLoader(\n",
    "                      train_data,\n",
    "                      batch_size=64, \n",
    "                      shuffle=True)\n",
    "\n",
    "    print(\"Loading the processed validation data...\")\n",
    "    validation_data = Dataset(\"valid_x_processed.pt\", \"valid_y_processed.pt\")\n",
    "    print(\"Generating data and creating batches for validation...\")\n",
    "    validation_loader = torch.utils.data.DataLoader(\n",
    "                      validation_data,\n",
    "                      batch_size=100, \n",
    "                      shuffle=True)\n",
    "    return train_loader, validation_loader"
   ]
  },
  {
   "cell_type": "code",
   "execution_count": 76,
   "id": "a68c8704-484e-4823-8430-53f5ed4b841b",
   "metadata": {},
   "outputs": [
    {
     "name": "stdout",
     "output_type": "stream",
     "text": [
      "Loading the processed training data...\n",
      "Generating data and creating batches for training...\n",
      "Loading the processed validation data...\n",
      "Generating data and creating batches for validation...\n"
     ]
    }
   ],
   "source": [
    "train_loader, validation_loader = load_data()"
   ]
  },
  {
   "cell_type": "code",
   "execution_count": 77,
   "id": "6cc3e21b-99c9-4643-b8ae-f5a5b11c0cd6",
   "metadata": {},
   "outputs": [],
   "source": [
    "examples = enumerate(validation_loader)\n",
    "batch_idx, (example_data, example_targets) = next(examples)"
   ]
  },
  {
   "cell_type": "code",
   "execution_count": 78,
   "id": "b9aae726-9d69-4093-aa8b-d347bbe90ed0",
   "metadata": {},
   "outputs": [
    {
     "data": {
      "text/plain": [
       "torch.Size([100, 1, 28, 28])"
      ]
     },
     "execution_count": 78,
     "metadata": {},
     "output_type": "execute_result"
    }
   ],
   "source": [
    "example_data.shape"
   ]
  },
  {
   "cell_type": "code",
   "execution_count": 79,
   "id": "00492964-8787-49cb-b7dd-50d1c01948ff",
   "metadata": {},
   "outputs": [
    {
     "data": {
      "text/plain": [
       "torch.Size([100])"
      ]
     },
     "execution_count": 79,
     "metadata": {},
     "output_type": "execute_result"
    }
   ],
   "source": [
    "example_targets.shape"
   ]
  },
  {
   "cell_type": "code",
   "execution_count": 80,
   "id": "5d4ada36-23e6-488f-a628-ff9ee0a96212",
   "metadata": {},
   "outputs": [
    {
     "data": {
      "image/png": "[encoded data removed]",
      "text/plain": [
       "<Figure size 640x480 with 6 Axes>"
      ]
     },
     "execution_count": 80,
     "metadata": {},
     "output_type": "execute_result"
    },
    {
     "data": {
      "image/png": "[encoded data removed]",
      "text/plain": [
       "<Figure size 640x480 with 6 Axes>"
      ]
     },
     "metadata": {},
     "output_type": "display_data"
    }
   ],
   "source": [
    "import matplotlib.pyplot as plt\n",
    "\n",
    "fig = plt.figure()\n",
    "for i in range(6):\n",
    "  plt.subplot(2,3,i+1)\n",
    "  plt.imshow(example_data[i][0], cmap='gray', interpolation='none')\n",
    "  plt.title(\"Ground Truth: {}\".format(example_targets[i]))\n",
    "  plt.xticks([])\n",
    "  plt.yticks([])\n",
    "fig"
   ]
  },
  {
   "cell_type": "code",
   "execution_count": 81,
   "id": "2a0b6e68-fcda-4d6c-bfcb-d94bba6a5bc5",
   "metadata": {},
   "outputs": [],
   "source": [
    "class Net(nn.Module):\n",
    "    def __init__(self):\n",
    "        super(Net, self).__init__()\n",
    "        self.conv1 = nn.Conv2d(1, 10, kernel_size=5)\n",
    "        self.conv2 = nn.Conv2d(10, 20, kernel_size=5)\n",
    "        self.conv2_drop = nn.Dropout2d()\n",
    "        self.fc1 = nn.Linear(320, 50)\n",
    "        self.fc2 = nn.Linear(50, 10)\n",
    "\n",
    "    def forward(self, x):\n",
    "        x = F.relu(F.max_pool2d(self.conv1(x), 2))\n",
    "        x = F.relu(F.max_pool2d(self.conv2_drop(self.conv2(x)), 2))\n",
    "        x = x.view(-1, 320)\n",
    "        x = F.relu(self.fc1(x))\n",
    "        x = F.dropout(x, training=self.training)\n",
    "        x = self.fc2(x)\n",
    "        return F.log_softmax(x, dim = 1)"
   ]
  },
  {
   "cell_type": "code",
   "execution_count": 82,
   "id": "50fe0d80-3fc0-4417-bf4d-0f21f667f496",
   "metadata": {},
   "outputs": [],
   "source": [
    "learning_rate = 0.01\n",
    "momentum = 0.5\n",
    "\n",
    "network = Net()\n",
    "optimizer = optim.SGD(network.parameters(), lr=learning_rate,\n",
    "                      momentum=momentum)"
   ]
  },
  {
   "cell_type": "code",
   "execution_count": 83,
   "id": "4c2d854a-34c9-4870-b313-420ec21d43d6",
   "metadata": {},
   "outputs": [],
   "source": [
    "n_epochs = 5\n",
    "train_losses = []\n",
    "train_counter = []\n",
    "test_losses = []\n",
    "test_counter = [i*len(train_loader.dataset) for i in range(n_epochs + 1)]"
   ]
  },
  {
   "cell_type": "code",
   "execution_count": 84,
   "id": "4bc7abd3-a004-4118-987f-1d3d086a02c8",
   "metadata": {},
   "outputs": [],
   "source": [
    "log_interval = 10\n",
    "\n",
    "def train(epoch):\n",
    "  network.train()\n",
    "  for batch_idx, (data, target) in enumerate(train_loader):\n",
    "    optimizer.zero_grad()\n",
    "    output = network(data)\n",
    "    loss = F.nll_loss(output, target)\n",
    "    loss.backward()\n",
    "    optimizer.step()\n",
    "    if batch_idx % log_interval == 0:\n",
    "      print('Train Epoch: {} [{}/{} ({:.0f}%)]\\tLoss: {:.6f}'.format(\n",
    "        epoch, batch_idx * len(data), len(train_loader.dataset),\n",
    "        100. * batch_idx / len(train_loader), loss.item()))\n",
    "      train_losses.append(loss.item())\n",
    "      train_counter.append(\n",
    "        (batch_idx*64) + ((epoch-1)*len(train_loader.dataset)))\n",
    "      torch.save(network.state_dict(), 'models/model.pth')\n",
    "      torch.save(optimizer.state_dict(), 'models/optimizer.pth')\n"
   ]
  },
  {
   "cell_type": "code",
   "execution_count": 85,
   "id": "3c8fdad2-0edb-4b61-96a2-5f3be8d49fad",
   "metadata": {},
   "outputs": [],
   "source": [
    "def validate():\n",
    "  network.eval()\n",
    "  test_loss = 0\n",
    "  correct = 0\n",
    "  with torch.no_grad():\n",
    "    for data, target in validation_loader:\n",
    "      output = network(data)\n",
    "      test_loss += F.nll_loss(output, target, reduction='sum').item()\n",
    "      pred = output.data.max(1, keepdim=True)[1]\n",
    "      correct += pred.eq(target.data.view_as(pred)).sum()\n",
    "  test_loss /= len(validation_loader.dataset)\n",
    "  test_losses.append(test_loss)\n",
    "  print('\\nTest set: Avg. loss: {:.4f}, Accuracy: {}/{} ({:.0f}%)\\n'.format(\n",
    "    test_loss, correct, len(validation_loader.dataset),\n",
    "    100. * correct / len(validation_loader.dataset)))"
   ]
  },
  {
   "cell_type": "code",
   "execution_count": 86,
   "id": "35117569-af59-4f60-921b-5edd8c4426d6",
   "metadata": {},
   "outputs": [
    {
     "name": "stdout",
     "output_type": "stream",
     "text": [
      "\n",
      "Test set: Avg. loss: 18.7092, Accuracy: 779/8400 (9%)\n",
      "\n",
      "Train Epoch: 1 [0/33600 (0%)]\tLoss: 34.211758\n",
      "Train Epoch: 1 [640/33600 (2%)]\tLoss: 2.316935\n",
      "Train Epoch: 1 [1280/33600 (4%)]\tLoss: 2.296868\n",
      "Train Epoch: 1 [1920/33600 (6%)]\tLoss: 2.182529\n",
      "Train Epoch: 1 [2560/33600 (8%)]\tLoss: 2.177657\n",
      "Train Epoch: 1 [3200/33600 (10%)]\tLoss: 2.087338\n",
      "Train Epoch: 1 [3840/33600 (11%)]\tLoss: 2.132449\n",
      "Train Epoch: 1 [4480/33600 (13%)]\tLoss: 1.916838\n",
      "Train Epoch: 1 [5120/33600 (15%)]\tLoss: 1.924090\n",
      "Train Epoch: 1 [5760/33600 (17%)]\tLoss: 1.852071\n",
      "Train Epoch: 1 [6400/33600 (19%)]\tLoss: 1.726726\n",
      "Train Epoch: 1 [7040/33600 (21%)]\tLoss: 1.645922\n",
      "Train Epoch: 1 [7680/33600 (23%)]\tLoss: 1.496487\n",
      "Train Epoch: 1 [8320/33600 (25%)]\tLoss: 1.475263\n",
      "Train Epoch: 1 [8960/33600 (27%)]\tLoss: 1.523093\n",
      "Train Epoch: 1 [9600/33600 (29%)]\tLoss: 1.278644\n",
      "Train Epoch: 1 [10240/33600 (30%)]\tLoss: 1.385848\n",
      "Train Epoch: 1 [10880/33600 (32%)]\tLoss: 1.370173\n",
      "Train Epoch: 1 [11520/33600 (34%)]\tLoss: 1.214763\n",
      "Train Epoch: 1 [12160/33600 (36%)]\tLoss: 1.317685\n",
      "Train Epoch: 1 [12800/33600 (38%)]\tLoss: 1.084479\n",
      "Train Epoch: 1 [13440/33600 (40%)]\tLoss: 1.454999\n",
      "Train Epoch: 1 [14080/33600 (42%)]\tLoss: 1.092214\n",
      "Train Epoch: 1 [14720/33600 (44%)]\tLoss: 1.095541\n",
      "Train Epoch: 1 [15360/33600 (46%)]\tLoss: 0.967146\n",
      "Train Epoch: 1 [16000/33600 (48%)]\tLoss: 0.942372\n",
      "Train Epoch: 1 [16640/33600 (50%)]\tLoss: 1.149115\n",
      "Train Epoch: 1 [17280/33600 (51%)]\tLoss: 1.077635\n",
      "Train Epoch: 1 [17920/33600 (53%)]\tLoss: 1.176644\n",
      "Train Epoch: 1 [18560/33600 (55%)]\tLoss: 0.974953\n",
      "Train Epoch: 1 [19200/33600 (57%)]\tLoss: 0.824061\n",
      "Train Epoch: 1 [19840/33600 (59%)]\tLoss: 0.870833\n",
      "Train Epoch: 1 [20480/33600 (61%)]\tLoss: 1.007863\n",
      "Train Epoch: 1 [21120/33600 (63%)]\tLoss: 0.692282\n",
      "Train Epoch: 1 [21760/33600 (65%)]\tLoss: 0.837972\n",
      "Train Epoch: 1 [22400/33600 (67%)]\tLoss: 1.020295\n",
      "Train Epoch: 1 [23040/33600 (69%)]\tLoss: 0.953515\n",
      "Train Epoch: 1 [23680/33600 (70%)]\tLoss: 0.997925\n",
      "Train Epoch: 1 [24320/33600 (72%)]\tLoss: 1.453756\n",
      "Train Epoch: 1 [24960/33600 (74%)]\tLoss: 1.056315\n",
      "Train Epoch: 1 [25600/33600 (76%)]\tLoss: 1.158213\n",
      "Train Epoch: 1 [26240/33600 (78%)]\tLoss: 0.849710\n",
      "Train Epoch: 1 [26880/33600 (80%)]\tLoss: 0.747929\n",
      "Train Epoch: 1 [27520/33600 (82%)]\tLoss: 1.056371\n",
      "Train Epoch: 1 [28160/33600 (84%)]\tLoss: 0.980948\n",
      "Train Epoch: 1 [28800/33600 (86%)]\tLoss: 0.706190\n",
      "Train Epoch: 1 [29440/33600 (88%)]\tLoss: 0.773539\n",
      "Train Epoch: 1 [30080/33600 (90%)]\tLoss: 0.716998\n",
      "Train Epoch: 1 [30720/33600 (91%)]\tLoss: 0.553085\n",
      "Train Epoch: 1 [31360/33600 (93%)]\tLoss: 0.793571\n",
      "Train Epoch: 1 [32000/33600 (95%)]\tLoss: 0.958123\n",
      "Train Epoch: 1 [32640/33600 (97%)]\tLoss: 0.957834\n",
      "Train Epoch: 1 [33280/33600 (99%)]\tLoss: 0.720286\n",
      "\n",
      "Test set: Avg. loss: 0.2933, Accuracy: 7712/8400 (92%)\n",
      "\n",
      "Train Epoch: 2 [0/33600 (0%)]\tLoss: 0.682043\n",
      "Train Epoch: 2 [640/33600 (2%)]\tLoss: 0.726755\n",
      "Train Epoch: 2 [1280/33600 (4%)]\tLoss: 0.895200\n",
      "Train Epoch: 2 [1920/33600 (6%)]\tLoss: 0.744753\n",
      "Train Epoch: 2 [2560/33600 (8%)]\tLoss: 0.702667\n",
      "Train Epoch: 2 [3200/33600 (10%)]\tLoss: 1.023407\n",
      "Train Epoch: 2 [3840/33600 (11%)]\tLoss: 0.559764\n",
      "Train Epoch: 2 [4480/33600 (13%)]\tLoss: 0.814819\n",
      "Train Epoch: 2 [5120/33600 (15%)]\tLoss: 0.397113\n",
      "Train Epoch: 2 [5760/33600 (17%)]\tLoss: 0.425334\n",
      "Train Epoch: 2 [6400/33600 (19%)]\tLoss: 0.723429\n",
      "Train Epoch: 2 [7040/33600 (21%)]\tLoss: 0.744558\n",
      "Train Epoch: 2 [7680/33600 (23%)]\tLoss: 0.631280\n",
      "Train Epoch: 2 [8320/33600 (25%)]\tLoss: 0.604190\n",
      "Train Epoch: 2 [8960/33600 (27%)]\tLoss: 0.671609\n",
      "Train Epoch: 2 [9600/33600 (29%)]\tLoss: 0.745962\n",
      "Train Epoch: 2 [10240/33600 (30%)]\tLoss: 0.534787\n",
      "Train Epoch: 2 [10880/33600 (32%)]\tLoss: 0.609193\n",
      "Train Epoch: 2 [11520/33600 (34%)]\tLoss: 0.737269\n",
      "Train Epoch: 2 [12160/33600 (36%)]\tLoss: 0.672843\n",
      "Train Epoch: 2 [12800/33600 (38%)]\tLoss: 1.026229\n",
      "Train Epoch: 2 [13440/33600 (40%)]\tLoss: 0.621650\n",
      "Train Epoch: 2 [14080/33600 (42%)]\tLoss: 0.637918\n",
      "Train Epoch: 2 [14720/33600 (44%)]\tLoss: 0.445831\n",
      "Train Epoch: 2 [15360/33600 (46%)]\tLoss: 0.529637\n",
      "Train Epoch: 2 [16000/33600 (48%)]\tLoss: 0.715092\n",
      "Train Epoch: 2 [16640/33600 (50%)]\tLoss: 0.492888\n",
      "Train Epoch: 2 [17280/33600 (51%)]\tLoss: 0.472499\n",
      "Train Epoch: 2 [17920/33600 (53%)]\tLoss: 0.729104\n",
      "Train Epoch: 2 [18560/33600 (55%)]\tLoss: 0.369804\n",
      "Train Epoch: 2 [19200/33600 (57%)]\tLoss: 0.776789\n",
      "Train Epoch: 2 [19840/33600 (59%)]\tLoss: 0.875790\n",
      "Train Epoch: 2 [20480/33600 (61%)]\tLoss: 0.593735\n",
      "Train Epoch: 2 [21120/33600 (63%)]\tLoss: 0.452688\n",
      "Train Epoch: 2 [21760/33600 (65%)]\tLoss: 0.392607\n",
      "Train Epoch: 2 [22400/33600 (67%)]\tLoss: 0.417665\n",
      "Train Epoch: 2 [23040/33600 (69%)]\tLoss: 0.465414\n",
      "Train Epoch: 2 [23680/33600 (70%)]\tLoss: 0.594365\n",
      "Train Epoch: 2 [24320/33600 (72%)]\tLoss: 0.549939\n",
      "Train Epoch: 2 [24960/33600 (74%)]\tLoss: 0.572401\n",
      "Train Epoch: 2 [25600/33600 (76%)]\tLoss: 0.723437\n",
      "Train Epoch: 2 [26240/33600 (78%)]\tLoss: 0.638813\n",
      "Train Epoch: 2 [26880/33600 (80%)]\tLoss: 0.499614\n",
      "Train Epoch: 2 [27520/33600 (82%)]\tLoss: 0.692854\n",
      "Train Epoch: 2 [28160/33600 (84%)]\tLoss: 0.475641\n",
      "Train Epoch: 2 [28800/33600 (86%)]\tLoss: 0.429641\n",
      "Train Epoch: 2 [29440/33600 (88%)]\tLoss: 0.800423\n",
      "Train Epoch: 2 [30080/33600 (90%)]\tLoss: 1.200554\n",
      "Train Epoch: 2 [30720/33600 (91%)]\tLoss: 0.656171\n",
      "Train Epoch: 2 [31360/33600 (93%)]\tLoss: 0.604234\n",
      "Train Epoch: 2 [32000/33600 (95%)]\tLoss: 0.515789\n",
      "Train Epoch: 2 [32640/33600 (97%)]\tLoss: 0.610907\n",
      "Train Epoch: 2 [33280/33600 (99%)]\tLoss: 0.453088\n",
      "\n",
      "Test set: Avg. loss: 0.1746, Accuracy: 7935/8400 (94%)\n",
      "\n",
      "Train Epoch: 3 [0/33600 (0%)]\tLoss: 0.621594\n",
      "Train Epoch: 3 [640/33600 (2%)]\tLoss: 0.288461\n",
      "Train Epoch: 3 [1280/33600 (4%)]\tLoss: 0.445021\n",
      "Train Epoch: 3 [1920/33600 (6%)]\tLoss: 0.557947\n",
      "Train Epoch: 3 [2560/33600 (8%)]\tLoss: 0.602423\n",
      "Train Epoch: 3 [3200/33600 (10%)]\tLoss: 0.385687\n",
      "Train Epoch: 3 [3840/33600 (11%)]\tLoss: 0.452409\n",
      "Train Epoch: 3 [4480/33600 (13%)]\tLoss: 0.311102\n",
      "Train Epoch: 3 [5120/33600 (15%)]\tLoss: 0.373846\n",
      "Train Epoch: 3 [5760/33600 (17%)]\tLoss: 0.481234\n",
      "Train Epoch: 3 [6400/33600 (19%)]\tLoss: 0.792896\n",
      "Train Epoch: 3 [7040/33600 (21%)]\tLoss: 0.322054\n",
      "Train Epoch: 3 [7680/33600 (23%)]\tLoss: 0.253559\n",
      "Train Epoch: 3 [8320/33600 (25%)]\tLoss: 0.963272\n",
      "Train Epoch: 3 [8960/33600 (27%)]\tLoss: 0.593244\n",
      "Train Epoch: 3 [9600/33600 (29%)]\tLoss: 0.302356\n",
      "Train Epoch: 3 [10240/33600 (30%)]\tLoss: 0.579656\n",
      "Train Epoch: 3 [10880/33600 (32%)]\tLoss: 0.415142\n",
      "Train Epoch: 3 [11520/33600 (34%)]\tLoss: 0.460792\n",
      "Train Epoch: 3 [12160/33600 (36%)]\tLoss: 0.540095\n",
      "Train Epoch: 3 [12800/33600 (38%)]\tLoss: 0.506452\n",
      "Train Epoch: 3 [13440/33600 (40%)]\tLoss: 0.614659\n",
      "Train Epoch: 3 [14080/33600 (42%)]\tLoss: 0.552073\n",
      "Train Epoch: 3 [14720/33600 (44%)]\tLoss: 0.653171\n",
      "Train Epoch: 3 [15360/33600 (46%)]\tLoss: 0.277692\n",
      "Train Epoch: 3 [16000/33600 (48%)]\tLoss: 0.371991\n",
      "Train Epoch: 3 [16640/33600 (50%)]\tLoss: 0.700238\n",
      "Train Epoch: 3 [17280/33600 (51%)]\tLoss: 0.465595\n",
      "Train Epoch: 3 [17920/33600 (53%)]\tLoss: 0.675847\n",
      "Train Epoch: 3 [18560/33600 (55%)]\tLoss: 0.352872\n",
      "Train Epoch: 3 [19200/33600 (57%)]\tLoss: 0.647150\n",
      "Train Epoch: 3 [19840/33600 (59%)]\tLoss: 0.479673\n",
      "Train Epoch: 3 [20480/33600 (61%)]\tLoss: 0.657583\n",
      "Train Epoch: 3 [21120/33600 (63%)]\tLoss: 0.592316\n",
      "Train Epoch: 3 [21760/33600 (65%)]\tLoss: 0.181825\n",
      "Train Epoch: 3 [22400/33600 (67%)]\tLoss: 0.616895\n",
      "Train Epoch: 3 [23040/33600 (69%)]\tLoss: 0.358202\n",
      "Train Epoch: 3 [23680/33600 (70%)]\tLoss: 0.663069\n",
      "Train Epoch: 3 [24320/33600 (72%)]\tLoss: 0.457168\n",
      "Train Epoch: 3 [24960/33600 (74%)]\tLoss: 0.417159\n",
      "Train Epoch: 3 [25600/33600 (76%)]\tLoss: 0.406931\n",
      "Train Epoch: 3 [26240/33600 (78%)]\tLoss: 0.577104\n",
      "Train Epoch: 3 [26880/33600 (80%)]\tLoss: 0.543562\n",
      "Train Epoch: 3 [27520/33600 (82%)]\tLoss: 0.771129\n",
      "Train Epoch: 3 [28160/33600 (84%)]\tLoss: 0.473255\n",
      "Train Epoch: 3 [28800/33600 (86%)]\tLoss: 0.468813\n",
      "Train Epoch: 3 [29440/33600 (88%)]\tLoss: 0.327844\n",
      "Train Epoch: 3 [30080/33600 (90%)]\tLoss: 0.443884\n",
      "Train Epoch: 3 [30720/33600 (91%)]\tLoss: 0.269151\n",
      "Train Epoch: 3 [31360/33600 (93%)]\tLoss: 0.530865\n",
      "Train Epoch: 3 [32000/33600 (95%)]\tLoss: 0.741069\n",
      "Train Epoch: 3 [32640/33600 (97%)]\tLoss: 0.451490\n",
      "Train Epoch: 3 [33280/33600 (99%)]\tLoss: 0.377007\n",
      "\n",
      "Test set: Avg. loss: 0.1643, Accuracy: 7992/8400 (95%)\n",
      "\n",
      "Train Epoch: 4 [0/33600 (0%)]\tLoss: 0.465419\n",
      "Train Epoch: 4 [640/33600 (2%)]\tLoss: 0.519914\n",
      "Train Epoch: 4 [1280/33600 (4%)]\tLoss: 0.358242\n",
      "Train Epoch: 4 [1920/33600 (6%)]\tLoss: 0.641024\n",
      "Train Epoch: 4 [2560/33600 (8%)]\tLoss: 0.275269\n",
      "Train Epoch: 4 [3200/33600 (10%)]\tLoss: 0.384369\n",
      "Train Epoch: 4 [3840/33600 (11%)]\tLoss: 0.919792\n",
      "Train Epoch: 4 [4480/33600 (13%)]\tLoss: 0.453896\n",
      "Train Epoch: 4 [5120/33600 (15%)]\tLoss: 0.492519\n",
      "Train Epoch: 4 [5760/33600 (17%)]\tLoss: 0.226914\n",
      "Train Epoch: 4 [6400/33600 (19%)]\tLoss: 0.339708\n",
      "Train Epoch: 4 [7040/33600 (21%)]\tLoss: 0.353853\n",
      "Train Epoch: 4 [7680/33600 (23%)]\tLoss: 0.557799\n",
      "Train Epoch: 4 [8320/33600 (25%)]\tLoss: 0.337743\n",
      "Train Epoch: 4 [8960/33600 (27%)]\tLoss: 0.315414\n",
      "Train Epoch: 4 [9600/33600 (29%)]\tLoss: 0.507242\n",
      "Train Epoch: 4 [10240/33600 (30%)]\tLoss: 0.561886\n",
      "Train Epoch: 4 [10880/33600 (32%)]\tLoss: 0.496326\n",
      "Train Epoch: 4 [11520/33600 (34%)]\tLoss: 0.505587\n",
      "Train Epoch: 4 [12160/33600 (36%)]\tLoss: 0.569604\n",
      "Train Epoch: 4 [12800/33600 (38%)]\tLoss: 0.519367\n",
      "Train Epoch: 4 [13440/33600 (40%)]\tLoss: 0.455973\n",
      "Train Epoch: 4 [14080/33600 (42%)]\tLoss: 0.621885\n",
      "Train Epoch: 4 [14720/33600 (44%)]\tLoss: 0.262944\n",
      "Train Epoch: 4 [15360/33600 (46%)]\tLoss: 0.294638\n",
      "Train Epoch: 4 [16000/33600 (48%)]\tLoss: 0.464729\n",
      "Train Epoch: 4 [16640/33600 (50%)]\tLoss: 0.343911\n",
      "Train Epoch: 4 [17280/33600 (51%)]\tLoss: 0.783150\n",
      "Train Epoch: 4 [17920/33600 (53%)]\tLoss: 0.673141\n",
      "Train Epoch: 4 [18560/33600 (55%)]\tLoss: 0.399016\n",
      "Train Epoch: 4 [19200/33600 (57%)]\tLoss: 0.283391\n",
      "Train Epoch: 4 [19840/33600 (59%)]\tLoss: 0.436781\n",
      "Train Epoch: 4 [20480/33600 (61%)]\tLoss: 0.172414\n",
      "Train Epoch: 4 [21120/33600 (63%)]\tLoss: 0.425103\n",
      "Train Epoch: 4 [21760/33600 (65%)]\tLoss: 0.370294\n",
      "Train Epoch: 4 [22400/33600 (67%)]\tLoss: 0.171524\n",
      "Train Epoch: 4 [23040/33600 (69%)]\tLoss: 0.362941\n",
      "Train Epoch: 4 [23680/33600 (70%)]\tLoss: 0.296196\n",
      "Train Epoch: 4 [24320/33600 (72%)]\tLoss: 0.319317\n",
      "Train Epoch: 4 [24960/33600 (74%)]\tLoss: 0.440436\n",
      "Train Epoch: 4 [25600/33600 (76%)]\tLoss: 0.330266\n",
      "Train Epoch: 4 [26240/33600 (78%)]\tLoss: 0.304780\n",
      "Train Epoch: 4 [26880/33600 (80%)]\tLoss: 0.439189\n",
      "Train Epoch: 4 [27520/33600 (82%)]\tLoss: 0.215990\n",
      "Train Epoch: 4 [28160/33600 (84%)]\tLoss: 0.482615\n",
      "Train Epoch: 4 [28800/33600 (86%)]\tLoss: 0.497559\n",
      "Train Epoch: 4 [29440/33600 (88%)]\tLoss: 0.503532\n",
      "Train Epoch: 4 [30080/33600 (90%)]\tLoss: 0.845821\n",
      "Train Epoch: 4 [30720/33600 (91%)]\tLoss: 0.404183\n",
      "Train Epoch: 4 [31360/33600 (93%)]\tLoss: 0.369807\n",
      "Train Epoch: 4 [32000/33600 (95%)]\tLoss: 0.329657\n",
      "Train Epoch: 4 [32640/33600 (97%)]\tLoss: 0.243232\n",
      "Train Epoch: 4 [33280/33600 (99%)]\tLoss: 0.313770\n",
      "\n",
      "Test set: Avg. loss: 0.1243, Accuracy: 8077/8400 (96%)\n",
      "\n",
      "Train Epoch: 5 [0/33600 (0%)]\tLoss: 0.336354\n",
      "Train Epoch: 5 [640/33600 (2%)]\tLoss: 0.410212\n",
      "Train Epoch: 5 [1280/33600 (4%)]\tLoss: 0.493629\n",
      "Train Epoch: 5 [1920/33600 (6%)]\tLoss: 0.268581\n",
      "Train Epoch: 5 [2560/33600 (8%)]\tLoss: 0.420837\n",
      "Train Epoch: 5 [3200/33600 (10%)]\tLoss: 0.219777\n",
      "Train Epoch: 5 [3840/33600 (11%)]\tLoss: 0.632399\n",
      "Train Epoch: 5 [4480/33600 (13%)]\tLoss: 0.393980\n",
      "Train Epoch: 5 [5120/33600 (15%)]\tLoss: 0.610878\n",
      "Train Epoch: 5 [5760/33600 (17%)]\tLoss: 0.380722\n",
      "Train Epoch: 5 [6400/33600 (19%)]\tLoss: 0.201598\n",
      "Train Epoch: 5 [7040/33600 (21%)]\tLoss: 0.303243\n",
      "Train Epoch: 5 [7680/33600 (23%)]\tLoss: 0.405237\n",
      "Train Epoch: 5 [8320/33600 (25%)]\tLoss: 0.508002\n",
      "Train Epoch: 5 [8960/33600 (27%)]\tLoss: 0.327857\n",
      "Train Epoch: 5 [9600/33600 (29%)]\tLoss: 0.264996\n",
      "Train Epoch: 5 [10240/33600 (30%)]\tLoss: 0.264739\n",
      "Train Epoch: 5 [10880/33600 (32%)]\tLoss: 0.261905\n",
      "Train Epoch: 5 [11520/33600 (34%)]\tLoss: 0.461593\n",
      "Train Epoch: 5 [12160/33600 (36%)]\tLoss: 0.267761\n",
      "Train Epoch: 5 [12800/33600 (38%)]\tLoss: 0.636822\n",
      "Train Epoch: 5 [13440/33600 (40%)]\tLoss: 0.564286\n",
      "Train Epoch: 5 [14080/33600 (42%)]\tLoss: 0.417073\n",
      "Train Epoch: 5 [14720/33600 (44%)]\tLoss: 0.300190\n",
      "Train Epoch: 5 [15360/33600 (46%)]\tLoss: 0.223049\n",
      "Train Epoch: 5 [16000/33600 (48%)]\tLoss: 0.115502\n",
      "Train Epoch: 5 [16640/33600 (50%)]\tLoss: 0.450579\n",
      "Train Epoch: 5 [17280/33600 (51%)]\tLoss: 0.333428\n",
      "Train Epoch: 5 [17920/33600 (53%)]\tLoss: 0.390972\n",
      "Train Epoch: 5 [18560/33600 (55%)]\tLoss: 0.292784\n",
      "Train Epoch: 5 [19200/33600 (57%)]\tLoss: 0.424092\n",
      "Train Epoch: 5 [19840/33600 (59%)]\tLoss: 0.643767\n",
      "Train Epoch: 5 [20480/33600 (61%)]\tLoss: 0.313614\n",
      "Train Epoch: 5 [21120/33600 (63%)]\tLoss: 0.303438\n",
      "Train Epoch: 5 [21760/33600 (65%)]\tLoss: 0.344961\n",
      "Train Epoch: 5 [22400/33600 (67%)]\tLoss: 0.226653\n",
      "Train Epoch: 5 [23040/33600 (69%)]\tLoss: 0.570032\n",
      "Train Epoch: 5 [23680/33600 (70%)]\tLoss: 0.322853\n",
      "Train Epoch: 5 [24320/33600 (72%)]\tLoss: 0.399070\n",
      "Train Epoch: 5 [24960/33600 (74%)]\tLoss: 0.493066\n",
      "Train Epoch: 5 [25600/33600 (76%)]\tLoss: 0.324331\n",
      "Train Epoch: 5 [26240/33600 (78%)]\tLoss: 0.635882\n",
      "Train Epoch: 5 [26880/33600 (80%)]\tLoss: 0.085301\n",
      "Train Epoch: 5 [27520/33600 (82%)]\tLoss: 0.283261\n",
      "Train Epoch: 5 [28160/33600 (84%)]\tLoss: 0.275693\n",
      "Train Epoch: 5 [28800/33600 (86%)]\tLoss: 0.420204\n",
      "Train Epoch: 5 [29440/33600 (88%)]\tLoss: 0.561272\n",
      "Train Epoch: 5 [30080/33600 (90%)]\tLoss: 0.430125\n",
      "Train Epoch: 5 [30720/33600 (91%)]\tLoss: 0.536444\n",
      "Train Epoch: 5 [31360/33600 (93%)]\tLoss: 0.457896\n",
      "Train Epoch: 5 [32000/33600 (95%)]\tLoss: 0.358825\n",
      "Train Epoch: 5 [32640/33600 (97%)]\tLoss: 0.378649\n",
      "Train Epoch: 5 [33280/33600 (99%)]\tLoss: 0.229780\n",
      "\n",
      "Test set: Avg. loss: 0.1112, Accuracy: 8113/8400 (97%)\n",
      "\n"
     ]
    }
   ],
   "source": [
    "validate()\n",
    "for epoch in range(1, n_epochs + 1):\n",
    "  train(epoch)\n",
    "  validate()"
   ]
  },
  {
   "cell_type": "code",
   "execution_count": 88,
   "id": "7e439daa-1ea1-4744-b21b-2c32c130a353",
   "metadata": {},
   "outputs": [
    {
     "name": "stdout",
     "output_type": "stream",
     "text": [
      "\n",
      "Test set: Avg. loss: 0.1112, Accuracy: 8113/8400 (97%)\n",
      "\n"
     ]
    },
    {
     "name": "stderr",
     "output_type": "stream",
     "text": [
      "/home/smoate/.cache/pypoetry/virtualenvs/app-28m1ZLG7-py3.10/lib/python3.10/site-packages/torch/nn/functional.py:1338: UserWarning: dropout2d: Received a 3D input to dropout2d and assuming that channel-wise 1D dropout behavior is desired - input is interpreted as shape (N, C, L), where C is the channel dim. This behavior will change in a future release to interpret the input as one without a batch dimension, i.e. shape (C, H, W). To maintain the 1D channel-wise dropout behavior, please switch to using dropout1d instead.\n",
      "  warnings.warn(\"dropout2d: Received a 3D input to dropout2d and assuming that channel-wise \"\n"
     ]
    },
    {
     "data": {
      "image/png": "[encoded data removed]",
      "text/plain": [
       "<Figure size 640x480 with 6 Axes>"
      ]
     },
     "execution_count": 88,
     "metadata": {},
     "output_type": "execute_result"
    },
    {
     "data": {
      "image/png": "[encoded data removed]",
      "text/plain": [
       "<Figure size 640x480 with 6 Axes>"
      ]
     },
     "metadata": {},
     "output_type": "display_data"
    }
   ],
   "source": [
    "import matplotlib.pyplot as plt\n",
    "\n",
    "validate()\n",
    "fig = plt.figure()\n",
    "for i in range(6):\n",
    "  plt.subplot(2,3,i+1)\n",
    "  plt.imshow(example_data[i][0], cmap='gray', interpolation='none')\n",
    "  output = network(example_data[i])\n",
    "  pred = output.data.max(1, keepdim=True)[1]\n",
    "  plt.title(\"Target: {}, Predict: {}\".format(example_targets[i], pred.item()))\n",
    "  plt.xticks([])\n",
    "  plt.yticks([])\n",
    "fig"
   ]
  },
  {
   "cell_type": "code",
   "execution_count": null,
   "id": "2a7fab92-1798-4fe3-9e4b-1e3aae9cab9d",
   "metadata": {},
   "outputs": [],
   "source": []
  }
 ],
 "metadata": {
  "kernelspec": {
   "display_name": "Python 3 (ipykernel)",
   "language": "python",
   "name": "python3"
  },
  "language_info": {
   "codemirror_mode": {
    "name": "ipython",
    "version": 3
   },
   "file_extension": ".py",
   "mimetype": "text/x-python",
   "name": "python",
   "nbconvert_exporter": "python",
   "pygments_lexer": "ipython3",
   "version": "3.10.10"
  }
 },
 "nbformat": 4,
 "nbformat_minor": 5
}
