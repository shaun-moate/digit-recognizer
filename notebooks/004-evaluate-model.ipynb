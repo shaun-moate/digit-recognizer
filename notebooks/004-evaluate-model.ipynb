{
 "cells": [
  {
   "cell_type": "code",
   "execution_count": 55,
   "id": "0b908852-058b-4e1c-bb20-b26df10227a5",
   "metadata": {},
   "outputs": [],
   "source": [
    "import torch\n",
    "import torch.nn as nn\n",
    "import json\n",
    "import os"
   ]
  },
  {
   "cell_type": "code",
   "execution_count": 56,
   "id": "47377a52-3cba-4791-809e-d316b3f7d8b3",
   "metadata": {},
   "outputs": [
    {
     "name": "stdout",
     "output_type": "stream",
     "text": [
      "/Users/user/Code/ml-bootstrap-example\n"
     ]
    }
   ],
   "source": [
    "if os.getcwd() != \"/Users/user/Code/ml-bootstrap-example/\":\n",
    "    os.chdir(\"/Users/user/Code/ml-bootstrap-example/\")\n",
    "\n",
    "cwd = os.getcwd()\n",
    "print(cwd)"
   ]
  },
  {
   "cell_type": "code",
   "execution_count": 57,
   "id": "4b782cff-8774-4d77-b7c2-2b979acb7364",
   "metadata": {},
   "outputs": [],
   "source": [
    "class Dataset(torch.utils.data.Dataset):\n",
    "  def __init__(self, data, labels):\n",
    "        self.labels = torch.load(\"data/processed/\" + labels)\n",
    "        self.data = torch.load(\"data/processed/\" + data) \n",
    "\n",
    "  def __len__(self):\n",
    "        return len(self.data)\n",
    "\n",
    "  def __getitem__(self, index):\n",
    "        X = self.data[index]\n",
    "        y = self.labels[index]\n",
    "        return X, y"
   ]
  },
  {
   "cell_type": "code",
   "execution_count": 58,
   "id": "9f89b5c9-0c79-471c-a6af-73b81d999224",
   "metadata": {},
   "outputs": [],
   "source": [
    "def load_evaluation_data():\n",
    "    print(\"Loading the processed validation data...\")\n",
    "    validation_data = Dataset(\"valid_x_processed.pt\", \"valid_y_processed.pt\")\n",
    "    print(\"Generating data and creating batches for validation...\")\n",
    "    evaluation_loader = torch.utils.data.DataLoader(\n",
    "                      validation_data,\n",
    "                      batch_size=100, \n",
    "                      shuffle=True)\n",
    "    return evaluation_loader"
   ]
  },
  {
   "cell_type": "code",
   "execution_count": 59,
   "id": "a68c8704-484e-4823-8430-53f5ed4b841b",
   "metadata": {},
   "outputs": [
    {
     "name": "stdout",
     "output_type": "stream",
     "text": [
      "Loading the processed validation data...\n",
      "Generating data and creating batches for validation...\n"
     ]
    }
   ],
   "source": [
    "evaluation_loader = load_evaluation_data()"
   ]
  },
  {
   "cell_type": "code",
   "execution_count": 60,
   "id": "07c478c4-6e5e-47db-b475-5a4d2e713597",
   "metadata": {},
   "outputs": [],
   "source": [
    "class Net(nn.Module):\n",
    "    def __init__(self):\n",
    "        super(Net, self).__init__()\n",
    "        self.conv1 = nn.Conv2d(1, 10, kernel_size=5)\n",
    "        self.conv2 = nn.Conv2d(10, 20, kernel_size=5)\n",
    "        self.conv2_drop = nn.Dropout2d()\n",
    "        self.fc1 = nn.Linear(320, 50)\n",
    "        self.fc2 = nn.Linear(50, 10)\n",
    "\n",
    "    def forward(self, x):\n",
    "        x = F.relu(F.max_pool2d(self.conv1(x), 2))\n",
    "        x = F.relu(F.max_pool2d(self.conv2_drop(self.conv2(x)), 2))\n",
    "        x = x.view(-1, 320)\n",
    "        x = F.relu(self.fc1(x))\n",
    "        x = F.dropout(x, training=self.training)\n",
    "        x = self.fc2(x)\n",
    "        return F.log_softmax(x, dim = 1)"
   ]
  },
  {
   "cell_type": "code",
   "execution_count": 61,
   "id": "127d246a-f718-4574-9299-4ff06148aad2",
   "metadata": {},
   "outputs": [
    {
     "data": {
      "text/plain": [
       "<All keys matched successfully>"
      ]
     },
     "execution_count": 61,
     "metadata": {},
     "output_type": "execute_result"
    }
   ],
   "source": [
    "network = Net()\n",
    "network.load_state_dict(torch.load('models/model.pth'))"
   ]
  },
  {
   "cell_type": "code",
   "execution_count": 64,
   "id": "3c8fdad2-0edb-4b61-96a2-5f3be8d49fad",
   "metadata": {},
   "outputs": [],
   "source": [
    "def eval():\n",
    "  network.eval()\n",
    "  test_loss = 0\n",
    "  correct = 0\n",
    "  with torch.no_grad():\n",
    "    for data, target in evaluation_loader:\n",
    "      output = network(data)\n",
    "      test_loss += F.nll_loss(output, target, reduction='sum').item()\n",
    "      pred = output.data.max(1, keepdim=True)[1]\n",
    "      correct += pred.eq(target.data.view_as(pred)).sum()\n",
    "  test_loss /= len(evaluation_loader.dataset)\n",
    "  output = {\"Avg. Loss\": round(test_loss, 4), \"Accuracy\": round((correct / len(evaluation_loader.dataset)).item(), 4)}\n",
    "  output_file = open(\"metrics.json\", \"w\")\n",
    "  json.dump(output, output_file, indent=6)"
   ]
  },
  {
   "cell_type": "code",
   "execution_count": 65,
   "id": "35117569-af59-4f60-921b-5edd8c4426d6",
   "metadata": {},
   "outputs": [],
   "source": [
    "eval()"
   ]
  },
  {
   "cell_type": "code",
   "execution_count": null,
   "id": "2a7fab92-1798-4fe3-9e4b-1e3aae9cab9d",
   "metadata": {},
   "outputs": [],
   "source": []
  }
 ],
 "metadata": {
  "kernelspec": {
   "display_name": "Python 3 (ipykernel)",
   "language": "python",
   "name": "python3"
  },
  "language_info": {
   "codemirror_mode": {
    "name": "ipython",
    "version": 3
   },
   "file_extension": ".py",
   "mimetype": "text/x-python",
   "name": "python",
   "nbconvert_exporter": "python",
   "pygments_lexer": "ipython3",
   "version": "3.11.5"
  }
 },
 "nbformat": 4,
 "nbformat_minor": 5
}
